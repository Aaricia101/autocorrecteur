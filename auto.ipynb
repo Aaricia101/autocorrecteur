{
 "cells": [
  {
   "cell_type": "code",
   "execution_count": 1,
   "id": "5b6bfb91",
   "metadata": {},
   "outputs": [],
   "source": [
    "#au besoin\n",
    "\n",
    "#%pip install textdistance\n",
    "#%pip install pandas"
   ]
  },
  {
   "attachments": {
    "079030c2-4f9f-4fca-a912-215733ca8992.png": {
     "image/png": "[encoded data removed]"
    },
    "30bb071a-f817-430f-a7d7-c1ae930d2ef7.png": {
     "image/png": "[encoded data removed]"
    },
    "b32679c2-5958-4ad8-a414-8fbe45554772.png": {
     "image/png": "[encoded data removed]"
    },
    "e0ec457e-f248-4145-86d9-28bafd2de0e9.png": {
     "image/png": "[encoded data removed]"
    }
   },
   "cell_type": "markdown",
   "id": "a231c046-77b0-424f-81bd-390b00dc27a2",
   "metadata": {},
   "source": [
    "# Introduction au projet d'autocorrecteur\n",
    "\n",
    "Le but de ce projet est simple. Nous allons créer un autocorrecteur qui va corriger les **fautes d'ortographe**, les **fautes de pluralités** et les **fautes de conjugaison** pour des textes en anglais. Le programme va avoir un système de rétroaction où l'utilisateur va pouvoir informer l'AI à propos des corrections proposés afin de savoir si elles sont bonnes ou mauvaises. De plus, si un mot n'est pas dans le dictionnaire, mais qu'il est réutiliser à plusieurs reprises, le programme doit être en mesure de s'adapter et d'accepter ce mot. Ainsi, le programme apprendra les habitudes grammaticales de l'utilisateur et de s'adapter à son écriture.\n",
    "\n",
    "## Faute d'ortographe\n",
    "\n",
    "Pour commencer, je vais me charger de trouver un algorithme qui va me permettre de trouver un ortographe erroné et de suggérer des corrections possibles. Je vais utiliser **(1) l'algorithme de distance de Levenshtein**, **(2) la similarité de Jaccard** et un **(3) algorithme de probabilité**.\n",
    "\n",
    "### (1) L'algorithme de distance de Levenshtein\n",
    "\n",
    "Pour cet algorithme, l'idée est de trouver le plus petit nombre de modification qu'il faut faire afin que le premier mot soi équivalant au deuxième mot. \n",
    "\n",
    "Il y a trois(3) modifications possibles:\n",
    "\n",
    "1. Remplacer\n",
    "2. Ajouter\n",
    "3. Supprimer\n",
    "\n",
    "Exemple 1 : Textse => Texte, c’est une modification (suppression de «s»)​\n",
    "\n",
    "\n",
    "Exemple 2 : Gumbo => Gambol, c’est deux modifications («u» pour «a» et ajout de «l»)\n",
    "\n",
    "\n",
    "Exemple 3 : Mamger => Manger, c’est une modification (remplace «m» par «n»)\n",
    "\n",
    "Pour expliquer le code ci-dessous, je vais utiliser les mots « love » et « pova » comme exemple.\n",
    "\n",
    "1) À la premier étape, il faut créer une matrice et l'initialiser à 0. Le mot « love » contient 4 lettres et « pova » contient 4 lettres donc nous aurons une matrice de 5x5 (la première case restera 0).\n",
    "   \n",
    "    ![image.png](attachment:30bb071a-f817-430f-a7d7-c1ae930d2ef7.png)\n",
    "   \n",
    "\n",
    "2) Maintenant, il faut remplir la première colonne et la première rangée avec des chiffres partant de 0 jusqu'à la taille complète du mot. (Les lettres ne font pas partie de la matrice. Ils sont présents seulement pour l'explication.)\n",
    "\n",
    "    ![image.png](attachment:b32679c2-5958-4ad8-a414-8fbe45554772.png)\n",
    "\n",
    "3) Ici, nous allons commencer à comparer les lettres. Voici les étapes:\n",
    "     1. Si Mot[i] == Mot2[j], alors le coût est de 0\n",
    "     2. Si Mot[i] != Mot2[j], alors le coût est de 1\n",
    "  \n",
    "     3. Entre les trois choix suivants, il faut trouver le plus petit nombre:\n",
    "        - Matrix[i, j-1] + 1\n",
    "        - Matrix[i-1, j] + 1\n",
    "        - Matrix[i-1, j-1] + coût\n",
    "\n",
    "        Ce nombre va être entreposé dans Matrix[i, j]\n",
    "     \n",
    "   \n",
    "   Pour la première colonne, on va comparer les lettres du mots « LOVE » à la première lettre du mot « POVA ». Voici le résultat :\n",
    "\n",
    "   ![image.png](attachment:079030c2-4f9f-4fca-a912-215733ca8992.png)\n",
    "\n",
    "   En premier lieu, on a « L » comparé à « P ». Ces deux lettres sont différents donc le coût == 1.\n",
    "   - Matrix[i, j-1] + 1 = 2\n",
    "   - Matrix[i-1, j] + 1 = 2\n",
    "   - Matrix[i-1, j-1] + coût = 1\n",
    "\n",
    "  \n",
    "   D'où Matrix[1, 1] = 1\n",
    "\n",
    "\n",
    "   En deuxième lieu, on a « O » comparé à « P ». Le coût est 1.\n",
    "   - Matrix[i, j-1] + 1 = 2\n",
    "   - Matrix[i-1, j] + 1 = 3\n",
    "   - Matrix[i-1, j-1] + coût = 1\n",
    "\n",
    "  \n",
    "   D'où Matrix[1, 2] = 2\n",
    "\n",
    "   Il suffit de refaire les mêmes étapes jusqu'à la fin.\n",
    "\n",
    "   ![image.png](attachment:e0ec457e-f248-4145-86d9-28bafd2de0e9.png)\n",
    "\n",
    "\n",
    "4) Le dernière case nous illustre que la distance est de 2. En effet, on peut voir qu'il faut deux(2) modifications pour que « love » devient « pova ». Il suffit de changer le « l » pour un « p » et changer le « e » pour un « a ».​\n"
   ]
  },
  {
   "cell_type": "code",
   "execution_count": 2,
   "id": "2714c25d-5279-42ec-9af5-859d64d57c6b",
   "metadata": {
    "tags": []
   },
   "outputs": [
    {
     "name": "stdout",
     "output_type": "stream",
     "text": [
      "La distance de Levenshtein est de: 2\n"
     ]
    }
   ],
   "source": [
    "def levenshtein_distance(word1, word2):\n",
    "    # Initialiser la matrice à 0. \n",
    "    # 1)\n",
    "    matrix = [[0] * (len(word2) + 1) for _ in range(len(word1) + 1)]\n",
    "\n",
    "\n",
    "    # Remplir le premier colonne et la première rangé de la matix\n",
    "    # 2)\n",
    "    for i in range(len(word1) + 1):\n",
    "        matrix[i][0] = i\n",
    "    for j in range(len(word2) + 1):\n",
    "        matrix[0][j] = j\n",
    "\n",
    "    # Calculer la distance de Levenshtein \n",
    "    # 3)\n",
    "    for i in range(1, len(word1) + 1):\n",
    "        for j in range(1, len(word2) + 1):\n",
    "            cost = 0 if word1[i - 1] == word2[j - 1] else 1\n",
    "            matrix[i][j] = min(matrix[i - 1][j] + 1, matrix[i][j - 1] + 1, matrix[i - 1][j - 1] + cost)\n",
    "\n",
    "    # Retourner la distance (le chiffre dans le coin bas à gauche de la matrix)\n",
    "    # 4)\n",
    "    return matrix[len(word1)][len(word2)]\n",
    "\n",
    "print(\"La distance de Levenshtein est de: \" + str(levenshtein_distance(\"love\", \"pova\")))"
   ]
  },
  {
   "cell_type": "markdown",
   "id": "47f4a0a3-fb10-4bc3-bd7e-2830d2da88fd",
   "metadata": {},
   "source": [
    "### (2) Similarité de Jaccard\n",
    "\n",
    "La similarité de Jaccard est une calculatrice qui peut être importer dans python et permet de calculer la similitude entre deux mots. Pour l'importer il suffit d'ajouter:\n",
    "\n",
    "*import textdistance*\n",
    "\n",
    "Cette calculatrice sépare les mots en ensembles. Dans cet exemple, les mots vont être séparés en ensemble de deux(2):\n",
    "\n",
    "*textdistance.Jaccard(qval=2).distance(mot,mot2)*\n",
    "\n",
    "Par exemple, pour le mot « apple », les couples « ap », « pp », « pl », « le » vont être créés.\n",
    "\n",
    "Ces ensembles vont être comparés aux ensembles du deuxième mot. Dans ce cas ci, on va prendre comme exemple « applo » avec les couples « ap », « pp », « pl » et « lo ». \n",
    "\n",
    "La formule mathématique est **Jaccard Similarity(A, B) = |A ∩ B| / |A ∪ B|**. En d'autres mots, la similarité de Jaccard est la quantité d'éléments de l'intersection des couples du premier mot et du deuxième mot divisé par le nombre d'éléments de l'union de tous les couples. De plus, toutes les similarités vont être comprisent entre 0 et 1: 0 indiquant aucune similarité et 1 indiquant les couples identiques.\n",
    "\n",
    "Pour notre exemple:\n",
    "\n",
    "    |A ∩ B| = 3 (« ap », « pp », « pl »)\n",
    "    \n",
    "    |A ∪ B| = 5 (« ap », « pp », « pl », « le », « lo »)\n",
    "\n",
    "Ce qui donne 0.6\n",
    "\n",
    "Cepandant, la fonction *textdistance.Jaccard(qval=2).distance(mot,mot2)* trouve la distance entre les deux mots et non la similitude, donc pour trouver la similitude il faut tout simplement faire **1-textdistance.Jaccard(qval=2).distance(mot,mot2)**"
   ]
  },
  {
   "cell_type": "code",
   "execution_count": 3,
   "id": "4160cd7f-ceaa-4dae-967d-9d34db16691c",
   "metadata": {
    "tags": []
   },
   "outputs": [
    {
     "name": "stdout",
     "output_type": "stream",
     "text": [
      "La similitude est de: [0.6]\n"
     ]
    }
   ],
   "source": [
    "import textdistance\n",
    "\n",
    "sim = [1-(textdistance.Jaccard(qval=2).distance(\"apple\",\"applo\"))]\n",
    "print(\"La similitude est de: \" + str(sim))"
   ]
  },
  {
   "cell_type": "markdown",
   "id": "40b8dc6a-555e-4465-88b1-9dd715facd86",
   "metadata": {},
   "source": [
    "### (3) Algorithme de probabilité\n",
    "\n",
    "Pour commencer, il faut aller chercher des données pour que le programme puisse savoir quels sont les mots les plus utilisés. Les meilleures ressources sont les livres gratuits sur internet. À l'aide de ces ressources, nous pouvons étudier la fréquence d'utilisation des mots. Une grosse variété de livres digitals peuvent être trouvés partout sur internet. Pour ce projet, le classique littéraire « Moby dick » est choisi pour son riche vocabulaire varié. Le livre est sauvegardé dans un fichier texte (auto.txt). Le code ci-dessous va lire le fichier et compter la fréquence de chaque mot.\n",
    "\n"
   ]
  },
  {
   "cell_type": "code",
   "execution_count": 4,
   "id": "f0974a99-00e8-44a0-8c9d-81b75c8aa21f",
   "metadata": {
    "scrolled": true,
    "tags": []
   },
   "outputs": [
    {
     "name": "stdout",
     "output_type": "stream",
     "text": [
      "[('the', 14703), ('of', 6742), ('and', 6517), ('a', 4799), ('to', 4707), ('in', 4238), ('that', 3081), ('it', 2534), ('his', 2530), ('i', 2120)]\n"
     ]
    }
   ],
   "source": [
    "from collections import Counter\n",
    "\n",
    "import re\n",
    "import os\n",
    "mots = []\n",
    "\n",
    "current_dir = os.getcwd()\n",
    "file_path = os.path.join(current_dir, 'auto.txt')\n",
    "\n",
    "#lire le fichier auto.txt\n",
    "with open(file_path, 'r', encoding='utf-8') as f:\n",
    "    file_name_data = f.read()\n",
    "    file_name_data=file_name_data.lower()\n",
    "    mots = re.findall('\\w+', file_name_data)\n",
    "\n",
    "# V pour vocabulaire\n",
    "V = set(mots)\n",
    "\n",
    "#compter la fréquence de chaque mot\n",
    "mot_freq = {}  \n",
    "mot_freq = Counter(mots)\n",
    "\n",
    "#Afficher les 10 mots les plus utilisés\n",
    "print(mot_freq.most_common()[0:10])"
   ]
  },
  {
   "cell_type": "markdown",
   "id": "7b46a5df-5e45-46fa-9529-1e2a5bd2f769",
   "metadata": {},
   "source": [
    "Par la suite, il faut trouver la probabilité de fréquence de chaque mot. En d'autre mots, c'est la fréquence divisé par le nombre total de mot unique que nous avons. On veut savoir si un mot est utilisé souvent ou non."
   ]
  },
  {
   "cell_type": "code",
   "execution_count": 5,
   "id": "50a21575-e906-4a49-a23b-aeed1e0351a5",
   "metadata": {
    "tags": []
   },
   "outputs": [
    {
     "name": "stdout",
     "output_type": "stream",
     "text": [
      "[('the', 0.06602066429280253), ('project', 0.0004086159593718989), ('gutenberg', 0.0004220868151753681), ('ebook', 4.490285267823065e-05), ('of', 0.030273503275663104), ('moby', 0.0004041256741040758), ('dick', 0.0004041256741040758), ('or', 0.003578757358454983), ('whale', 0.00552305087942237), ('by', 0.0054871285972797855)]\n"
     ]
    }
   ],
   "source": [
    "probs = {}  \n",
    "\n",
    "#total de mots\n",
    "Total = sum(mot_freq.values())   \n",
    "\n",
    "# pour chaque mot on calcule sa fréquence divisé par le nombre total\n",
    "for k in mot_freq.keys():\n",
    "    probs[k] = mot_freq[k]/Total\n",
    "\n",
    "print(list(probs.items())[:10])"
   ]
  },
  {
   "cell_type": "markdown",
   "id": "4e74c43e-c8ae-416f-846b-92650ea118fd",
   "metadata": {},
   "source": [
    "## Algorithme final\n",
    "\n",
    "Maintenant qu'on a trois(3) différentes méthodes pour analyser l'orthographe, il faut les unir tous ensemble pour créer l'algorithme ultime."
   ]
  },
  {
   "cell_type": "code",
   "execution_count": 6,
   "id": "7d78e80c-fe86-4fdd-9187-e1cc08abae14",
   "metadata": {
    "tags": []
   },
   "outputs": [
    {
     "name": "stdout",
     "output_type": "stream",
     "text": [
      "Quel mot voulez-vous dire?\n",
      "         Mot      Prob  Similarity  distance_Lenv\n",
      "6595   apple  0.000018    0.600000              1\n",
      "5173   apply  0.000013    0.600000              1\n",
      "4366  mapple  0.000040    0.500000              2\n",
      "5001   appal  0.000013    0.333333              2\n",
      "4779  appals  0.000009    0.285714              2\n"
     ]
    }
   ],
   "source": [
    "import pandas as pd\n",
    "import numpy as np\n",
    "\n",
    "def my_autocorrect(mot):\n",
    "    mot = mot.lower()\n",
    "    if mot in V:\n",
    "            return('Le mot est semble être correct')\n",
    "    else:\n",
    "\n",
    "        #Probabilité\n",
    "        df = pd.DataFrame.from_dict(probs, orient='index').reset_index()\n",
    "        df = df.rename(columns={'index':'Mot', 0:'Prob'})\n",
    "        \n",
    "        #similarité de Jaccard\n",
    "        sim = [1-(textdistance.Jaccard(qval=2).distance(v,mot)) for v in mot_freq.keys()]\n",
    "        df['Similarity'] = sim \n",
    "\n",
    "        #distance de Levenshtein\n",
    "        distance = [levenshtein_distance(mot, v) for v in mot_freq.keys()] \n",
    "        df['distance_Lenv'] = distance \n",
    "        \n",
    "        #Trier les mots par distance, similarité et probabilité\n",
    "        output = df.sort_values(by=['distance_Lenv','Similarity', 'Prob'], ascending=[True, False, False]).head()\n",
    "        \n",
    "        print('Quel mot voulez-vous dire?')\n",
    "        return(output)\n",
    "\n",
    "print(my_autocorrect(\"applo\"))"
   ]
  },
  {
   "cell_type": "markdown",
   "id": "b9bd212d-97ec-4306-9a41-9f9c5628d1cc",
   "metadata": {},
   "source": [
    "# Apprendre des nouveaux mots\n",
    "\n",
    "Le vocabulaire qui se trouve dans le dictionnaire de l'algorithme est limité donc il faut donner la possibilité d'ajouter des nouveaux mots."
   ]
  },
  {
   "cell_type": "code",
   "execution_count": 7,
   "id": "4a588e7d-229f-44ef-a37c-0c2a84e6879a",
   "metadata": {
    "tags": []
   },
   "outputs": [
    {
     "name": "stdout",
     "output_type": "stream",
     "text": [
      "Quel mot voulez-vous dire?\n",
      "    Mot      Prob  Similarity  distance_Lenv\n",
      "70    a  0.021549           0              1\n",
      "459   i  0.009519           0              1\n",
      "188   s  0.008168           0              1\n",
      "933   t  0.001392           0              1\n",
      "815   d  0.000337           0              1\n"
     ]
    }
   ],
   "source": [
    "mot = input(\"Écrivez votre mot: \")\n",
    "\n",
    "print(my_autocorrect(mot, ))\n",
    "reponse = input(\"Entrez un nombre correspondant (0 si le mot n'est pas présent et -1 si le mot est personnalisé):\")\n",
    "\n",
    "if reponse == '-1' :\n",
    "        with open('newWords.txt', 'a') as file:\n",
    "            file.write(mot + '\\n')"
   ]
  },
  {
   "cell_type": "markdown",
   "id": "ff889329-411c-4cd2-8363-d30fbe1ffc74",
   "metadata": {},
   "source": [
    "Ce simple code permet d'ouvrir le fichier « newWords.txt » et inserer des nouveaux mots. La prochaine fois on pourra lire les mots du dictionnaire original et les mots du nouveau dictionnaire."
   ]
  },
  {
   "cell_type": "code",
   "execution_count": 8,
   "id": "826d588f-62d8-4505-a9ef-4feffbae7a55",
   "metadata": {
    "tags": []
   },
   "outputs": [],
   "source": [
    "import re\n",
    "mots = []\n",
    "with open('auto.txt', 'r', encoding='utf-8') as f:\n",
    "    file_name_data = f.read()\n",
    "    file_name_data=file_name_data.lower()\n",
    "    mots = re.findall(r\"[\\w']+\", file_name_data)\n",
    "\n",
    "#lire les nouveau mots\n",
    "with open('newWords.txt', 'r', encoding='utf-8') as f:\n",
    "    file_name_data = f.read()\n",
    "    file_name_data=file_name_data.lower()\n",
    "    mots += re.findall(r\"[\\w']+\", file_name_data)"
   ]
  },
  {
   "cell_type": "code",
   "execution_count": null,
   "id": "a37cffe7-a941-4354-bd3f-2fd91300615f",
   "metadata": {},
   "outputs": [],
   "source": []
  }
 ],
 "metadata": {
  "kernelspec": {
   "display_name": "Python 3 (ipykernel)",
   "language": "python",
   "name": "python3"
  },
  "language_info": {
   "codemirror_mode": {
    "name": "ipython",
    "version": 3
   },
   "file_extension": ".py",
   "mimetype": "text/x-python",
   "name": "python",
   "nbconvert_exporter": "python",
   "pygments_lexer": "ipython3",
   "version": "3.9.11"
  }
 },
 "nbformat": 4,
 "nbformat_minor": 5
}
